{
 "cells": [
  {
   "cell_type": "code",
   "execution_count": 61,
   "id": "21c460ae",
   "metadata": {},
   "outputs": [],
   "source": [
    "import pandas as pd\n",
    "import numpy as np\n",
    "from sklearn.model_selection import train_test_split"
   ]
  },
  {
   "cell_type": "code",
   "execution_count": 62,
   "id": "fa98a3b8",
   "metadata": {},
   "outputs": [],
   "source": [
    "# Clean the data by turning sex and embark location into numerical variables \n",
    "\n",
    "test_df = pd.read_csv(\"test.csv\")\n",
    "train_df = pd.read_csv(\"train.csv\")\n",
    "def convert_sex(s):\n",
    "    if s == 'male':\n",
    "        return 0\n",
    "    return 1\n",
    "\n",
    "train_df = train_df.assign(Sex= train_df.get('Sex').apply(convert_sex))\n",
    "test_df = test_df.assign(Sex= test_df.get('Sex').apply(convert_sex))\n",
    "\n",
    "def convert_embark(location):\n",
    "    if location == 'S':\n",
    "        return 1\n",
    "    elif location == 'C':\n",
    "        return 2\n",
    "    return 3\n",
    "\n",
    "train_df = train_df.assign(Embarked = train_df.get('Embarked').apply(convert_embark))\n",
    "test_df = test_df.assign(Embarked = test_df.get('Embarked').apply(convert_embark))"
   ]
  },
  {
   "cell_type": "code",
   "execution_count": 63,
   "id": "44784f63",
   "metadata": {
    "scrolled": false
   },
   "outputs": [
    {
     "name": "stdout",
     "output_type": "stream",
     "text": [
      "0\n",
      "177\n",
      "0\n",
      "0\n",
      "0\n",
      "0\n",
      "\n",
      "\n",
      "0\n",
      "86\n",
      "0\n",
      "0\n",
      "1\n",
      "0\n"
     ]
    }
   ],
   "source": [
    "# Find which columns have missing values\n",
    "print(np.count_nonzero(train_df.Sex.isna()))\n",
    "print(np.count_nonzero(train_df.Age.isna()))\n",
    "print(np.count_nonzero(train_df.SibSp.isna()))\n",
    "print(np.count_nonzero(train_df.Parch.isna()))\n",
    "print(np.count_nonzero(train_df.Fare.isna()))\n",
    "print(np.count_nonzero(train_df.Embarked.isna()))\n",
    "print('\\n')\n",
    "\n",
    "print(np.count_nonzero(test_df.Sex.isna()))\n",
    "print(np.count_nonzero(test_df.Age.isna()))\n",
    "print(np.count_nonzero(test_df.SibSp.isna()))\n",
    "print(np.count_nonzero(test_df.Parch.isna()))\n",
    "print(np.count_nonzero(test_df.Fare.isna()))\n",
    "print(np.count_nonzero(test_df.Embarked.isna()))"
   ]
  },
  {
   "cell_type": "code",
   "execution_count": 15,
   "id": "8d5dce25",
   "metadata": {},
   "outputs": [],
   "source": [
    "# Deal with missing values in the age column by inputting average age of the column\n",
    "train_avg = train_df.Age.mean()\n",
    "train_df.Age.fillna(train_avg, inplace=True)\n",
    "\n",
    "test_avg = test_df.Age.mean()\n",
    "test_df.Age.fillna(test_avg, inplace=True)\n",
    "test_df.Fare.fillna(test_df.Fare.mean(), inplace=True)"
   ]
  },
  {
   "cell_type": "code",
   "execution_count": 50,
   "id": "070571c9",
   "metadata": {},
   "outputs": [],
   "source": [
    "\"\"\"Build a simple decision tree regressor model by dropping features such as name, ticket number, cabin number\"\"\"\n",
    "from sklearn.tree import DecisionTreeRegressor\n",
    "titanic_model1 = DecisionTreeRegressor()\n",
    "features = ['Sex','Parch','Age','SibSp','Embarked', 'Fare']\n",
    "\n",
    "X = train_df[features]\n",
    "y = train_df['Survived']\n",
    "train_X, val_X, train_y, val_y = train_test_split(X, y, random_state = 0)\n",
    "titanic_model1.fit(train_X, train_y)\n",
    "predictions = titanic_model1.predict(val_X)"
   ]
  },
  {
   "cell_type": "code",
   "execution_count": 51,
   "id": "ae77f0bc",
   "metadata": {},
   "outputs": [
    {
     "name": "stdout",
     "output_type": "stream",
     "text": [
      "[1.0, 0.0, 0.0, 1.0, 1.0, 0.0, 1.0, 1.0, 0.0, 1.0, 0.0, 1.0, 0.0, 1.0, 1.0, 0.0, 0.0, 1.0, 0.0, 1.0, 0.0, 0.0, 0.0, 1.0, 0.0, 1.0, 0.0, 1.0, 1.0, 0.0, 0.0, 1.0, 0.0, 0.0, 0.0, 0.0, 0.0, 0.0, 0.0, 0.0, 0.0, 1.0, 0.0, 0.0, 1.0, 0.0, 0.0, 1.0, 0.0, 0.0, 0.0, 0.0, 1.0, 0.0, 0.0, 0.0, 0.0, 0.0, 0.0, 0.0, 0.0, 1.0, 1.0, 0.0, 1.0, 0.0, 1.0, 0.0, 1.0, 1.0, 1.0, 0.0, 0.0, 0.0, 0.0, 0.0, 1.0, 0.0, 0.0, 1.0, 0.0, 1.0, 1.0, 0.0, 0.0, 1.0, 1.0, 0.0, 1.0, 0.0, 0.0, 0.0, 1.0, 1.0, 0.0, 0.0, 1.0, 0.0, 0.0, 0.0, 0.0, 0.0, 0.0, 0.0, 0.0, 1.0, 1.0, 0.0, 0.0, 1.0, 0.0, 1.0, 1.0, 0.0, 0.0, 1.0, 0.0, 1.0, 0.0, 0.0, 0.0, 0.0, 0.0, 0.0, 0.0, 0.0, 0.0, 0.0, 0.0, 0.0, 1.0, 0.0, 0.0, 1.0, 0.0, 0.0, 0.0, 0.0, 0.0, 0.0, 0.0, 1.0, 0.0, 0.0, 1.0, 0.0, 0.0, 0.0, 1.0, 1.0, 0.0, 1.0, 1.0, 0.0, 1.0, 0.0, 1.0, 0.0, 1.0, 1.0, 0.0, 0.0, 1.0, 0.0, 0.0, 0.0, 0.0, 1.0, 0.0, 0.0, 0.0, 1.0, 0.0, 0.0, 1.0, 0.0, 1.0, 0.0, 0.0, 1.0, 1.0, 0.0, 1.0, 0.0, 0.0, 0.0, 1.0, 0.0, 0.0, 1.0, 1.0, 0.0, 1.0, 1.0, 0.0, 0.0, 0.0, 0.0, 0.0, 0.0, 0.0, 0.0, 0.0, 0.0, 0.0, 0.0, 0.0, 1.0, 1.0, 0.0, 1.0, 0.0, 0.0, 0.0, 0.0, 0.0, 0.0, 1.0, 0.0, 1.0, 0.0, 1.0, 0.0]\n"
     ]
    }
   ],
   "source": [
    "# Clean the values in predictions. Round the number, if necessary\n",
    "predictions = [round(num, 0) for num in predictions]\n",
    "print(predictions)"
   ]
  },
  {
   "cell_type": "code",
   "execution_count": 52,
   "id": "76721e1e",
   "metadata": {},
   "outputs": [],
   "source": [
    "# to do for tomorrow: compare accuracies and use one-hot encoder"
   ]
  },
  {
   "cell_type": "code",
   "execution_count": 53,
   "id": "3ba17cfb",
   "metadata": {},
   "outputs": [
    {
     "name": "stdout",
     "output_type": "stream",
     "text": [
      "0.7713004484304933\n"
     ]
    }
   ],
   "source": [
    "def accuracy(actual, pred):\n",
    "    return 1 - abs(actual - pred).mean()\n",
    "\n",
    "print(accuracy(val_y, predictions))"
   ]
  },
  {
   "cell_type": "code",
   "execution_count": 54,
   "id": "57967c1e",
   "metadata": {},
   "outputs": [
    {
     "data": {
      "text/plain": [
       "'Note for later: use one-hot encoder for sex and embark location, use random forest regressor, use pipeline,\\nuse XG Boost'"
      ]
     },
     "execution_count": 54,
     "metadata": {},
     "output_type": "execute_result"
    }
   ],
   "source": [
    "\"\"\"Note for later: use one-hot encoder for sex and embark location, use random forest regressor, use pipeline,\n",
    "use XG Boost\"\"\""
   ]
  },
  {
   "cell_type": "code",
   "execution_count": 64,
   "id": "c9eade97",
   "metadata": {},
   "outputs": [],
   "source": [
    "# Using ordinal encoding\n",
    "train_df = pd.read_csv(\"train.csv\") # get the original dataframe, not the one where I used ordinal encoding\n",
    "from sklearn.preprocessing import OneHotEncoder\n",
    "features = ['Sex','Parch','Age','SibSp','Embarked', 'Fare']\n",
    "\n",
    "# Deal with missing values\n",
    "train_avg = train_df.Age.mean()\n",
    "train_df.Age.fillna(train_avg, inplace=True)\n",
    "\n",
    "test_avg = test_df.Age.mean()\n",
    "test_df.Age.fillna(test_avg, inplace=True)\n",
    "test_df.Fare.fillna(test_df.Fare.mean(), inplace=True)\n",
    "\n",
    "X = train_df[features]\n",
    "y = train_df['Survived']\n",
    "X_train, X_valid, y_train, y_val = train_test_split(X, y, random_state = 0)\n",
    "\n",
    "\n"
   ]
  },
  {
   "cell_type": "code",
   "execution_count": 74,
   "id": "4d72108b",
   "metadata": {},
   "outputs": [
    {
     "data": {
      "text/html": [
       "<div>\n",
       "<style scoped>\n",
       "    .dataframe tbody tr th:only-of-type {\n",
       "        vertical-align: middle;\n",
       "    }\n",
       "\n",
       "    .dataframe tbody tr th {\n",
       "        vertical-align: top;\n",
       "    }\n",
       "\n",
       "    .dataframe thead th {\n",
       "        text-align: right;\n",
       "    }\n",
       "</style>\n",
       "<table border=\"1\" class=\"dataframe\">\n",
       "  <thead>\n",
       "    <tr style=\"text-align: right;\">\n",
       "      <th></th>\n",
       "      <th>Sex</th>\n",
       "      <th>Embarked</th>\n",
       "    </tr>\n",
       "  </thead>\n",
       "  <tbody>\n",
       "    <tr>\n",
       "      <th>105</th>\n",
       "      <td>male</td>\n",
       "      <td>S</td>\n",
       "    </tr>\n",
       "    <tr>\n",
       "      <th>68</th>\n",
       "      <td>female</td>\n",
       "      <td>S</td>\n",
       "    </tr>\n",
       "    <tr>\n",
       "      <th>253</th>\n",
       "      <td>male</td>\n",
       "      <td>S</td>\n",
       "    </tr>\n",
       "    <tr>\n",
       "      <th>320</th>\n",
       "      <td>male</td>\n",
       "      <td>S</td>\n",
       "    </tr>\n",
       "    <tr>\n",
       "      <th>706</th>\n",
       "      <td>female</td>\n",
       "      <td>S</td>\n",
       "    </tr>\n",
       "    <tr>\n",
       "      <th>...</th>\n",
       "      <td>...</td>\n",
       "      <td>...</td>\n",
       "    </tr>\n",
       "    <tr>\n",
       "      <th>835</th>\n",
       "      <td>female</td>\n",
       "      <td>C</td>\n",
       "    </tr>\n",
       "    <tr>\n",
       "      <th>192</th>\n",
       "      <td>female</td>\n",
       "      <td>S</td>\n",
       "    </tr>\n",
       "    <tr>\n",
       "      <th>629</th>\n",
       "      <td>male</td>\n",
       "      <td>Q</td>\n",
       "    </tr>\n",
       "    <tr>\n",
       "      <th>559</th>\n",
       "      <td>female</td>\n",
       "      <td>S</td>\n",
       "    </tr>\n",
       "    <tr>\n",
       "      <th>684</th>\n",
       "      <td>male</td>\n",
       "      <td>S</td>\n",
       "    </tr>\n",
       "  </tbody>\n",
       "</table>\n",
       "<p>668 rows × 2 columns</p>\n",
       "</div>"
      ],
      "text/plain": [
       "        Sex Embarked\n",
       "105    male        S\n",
       "68   female        S\n",
       "253    male        S\n",
       "320    male        S\n",
       "706  female        S\n",
       "..      ...      ...\n",
       "835  female        C\n",
       "192  female        S\n",
       "629    male        Q\n",
       "559  female        S\n",
       "684    male        S\n",
       "\n",
       "[668 rows x 2 columns]"
      ]
     },
     "execution_count": 74,
     "metadata": {},
     "output_type": "execute_result"
    }
   ],
   "source": [
    "# Use one-hot encoder on columns sex and embarked\n",
    "object_cols = ['Sex', 'Embarked']\n",
    "\n",
    "OH_encoder = OneHotEncoder(handle_unknown='ignore', sparse_output=False)\n",
    "OH_cols_train = pd.DataFrame(OH_encoder.fit_transform(X_train[object_cols]))\n",
    "OH_cols_valid = pd.DataFrame(OH_encoder.transform(X_valid[object_cols]))\n",
    "\n",
    "# One-hot encoding removed index; put it back\n",
    "OH_cols_train.index = X_train.index\n",
    "OH_cols_valid.index = X_valid.index\n",
    "\n",
    "# Remove categorical columns (will replace with one-hot encoding)\n",
    "num_X_train = X_train.drop(object_cols, axis=1)\n",
    "num_X_valid = X_valid.drop(object_cols, axis=1)\n",
    "\n",
    "# Add one-hot encoded columns to numerical features\n",
    "OH_X_train = pd.concat([num_X_train, OH_cols_train], axis=1)\n",
    "OH_X_valid = pd.concat([num_X_valid, OH_cols_valid], axis=1)\n",
    "\n",
    "OH_X_train.columns = OH_X_train.columns.astype(str)\n",
    "OH_X_valid.columns = OH_X_valid.columns.astype(str)\n",
    "\n",
    "X_train[object_cols]"
   ]
  },
  {
   "cell_type": "code",
   "execution_count": 75,
   "id": "bd99b6d7",
   "metadata": {},
   "outputs": [
    {
     "name": "stdout",
     "output_type": "stream",
     "text": [
      "0.7649850523168908\n"
     ]
    }
   ],
   "source": [
    "titanic_model1.fit(OH_X_train, y_train)\n",
    "preds = titanic_model1.predict(OH_X_valid)\n",
    "print(accuracy(y_val, preds))\n",
    "\n",
    "# this was not more accurate than ordinal encoding .__."
   ]
  }
 ],
 "metadata": {
  "kernelspec": {
   "display_name": "Python 3 (ipykernel)",
   "language": "python",
   "name": "python3"
  },
  "language_info": {
   "codemirror_mode": {
    "name": "ipython",
    "version": 3
   },
   "file_extension": ".py",
   "mimetype": "text/x-python",
   "name": "python",
   "nbconvert_exporter": "python",
   "pygments_lexer": "ipython3",
   "version": "3.10.9"
  }
 },
 "nbformat": 4,
 "nbformat_minor": 5
}
