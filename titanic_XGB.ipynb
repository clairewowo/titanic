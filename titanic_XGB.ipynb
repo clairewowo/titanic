{
 "cells": [
  {
   "cell_type": "code",
   "execution_count": 4,
   "id": "15f4256f",
   "metadata": {},
   "outputs": [],
   "source": [
    "import pandas as pd\n",
    "import numpy as np\n",
    "from sklearn.model_selection import train_test_split\n",
    "from sklearn.preprocessing import OrdinalEncoder\n",
    "from sklearn.impute import SimpleImputer\n",
    "from xgboost import XGBRegressor"
   ]
  },
  {
   "cell_type": "code",
   "execution_count": 5,
   "id": "01a7c48c",
   "metadata": {},
   "outputs": [
    {
     "name": "stdout",
     "output_type": "stream",
     "text": [
      "Age         177\n",
      "Cabin       687\n",
      "Embarked      2\n",
      "dtype: int64\n"
     ]
    }
   ],
   "source": [
    "result_df = pd.read_csv(\"test.csv\")\n",
    "train_df = pd.read_csv(\"train.csv\")\n",
    "\n",
    "missing_val_count_by_column = (train_df.isnull().sum())\n",
    "print(missing_val_count_by_column[missing_val_count_by_column > 0])\n"
   ]
  },
  {
   "cell_type": "code",
   "execution_count": 6,
   "id": "3cd083bf",
   "metadata": {},
   "outputs": [],
   "source": [
    "features = ['Sex','Parch','Age','SibSp','Embarked', 'Pclass','Fare']\n",
    "\n",
    "X = train_df[features]\n",
    "y = train_df[['Survived']]\n",
    "\n",
    "train_X, val_X, train_y, val_y = train_test_split(X, y, random_state = 0)"
   ]
  },
  {
   "cell_type": "code",
   "execution_count": 4,
   "id": "7b8a8939",
   "metadata": {},
   "outputs": [],
   "source": [
    "# fill in missing values for age\n",
    "imputer = SimpleImputer()\n",
    "age_train = imputer.fit_transform(train_X[['Age']])\n",
    "age_valid = imputer.transform(val_X[['Age']])\n",
    "\n",
    "train_X = train_X.assign(Age=age_train)\n",
    "val_X = val_X.assign(Age=age_valid)"
   ]
  },
  {
   "cell_type": "code",
   "execution_count": 5,
   "id": "e7adc561",
   "metadata": {},
   "outputs": [],
   "source": [
    "train_X.dropna(axis=0, subset=['Embarked'], inplace=True)\n",
    "val_X.dropna(axis=0, subset=['Embarked'], inplace=True)"
   ]
  },
  {
   "cell_type": "code",
   "execution_count": null,
   "id": "ae174125",
   "metadata": {},
   "outputs": [],
   "source": []
  },
  {
   "cell_type": "code",
   "execution_count": null,
   "id": "990edcbb",
   "metadata": {},
   "outputs": [],
   "source": []
  }
 ],
 "metadata": {
  "kernelspec": {
   "display_name": "Python 3 (ipykernel)",
   "language": "python",
   "name": "python3"
  },
  "language_info": {
   "codemirror_mode": {
    "name": "ipython",
    "version": 3
   },
   "file_extension": ".py",
   "mimetype": "text/x-python",
   "name": "python",
   "nbconvert_exporter": "python",
   "pygments_lexer": "ipython3",
   "version": "3.10.9"
  }
 },
 "nbformat": 4,
 "nbformat_minor": 5
}
